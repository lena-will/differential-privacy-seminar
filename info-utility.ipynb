{
 "cells": [
  {
   "cell_type": "code",
   "execution_count": 1,
   "id": "437527d2-855d-453a-b18a-36db19ef39b8",
   "metadata": {},
   "outputs": [],
   "source": [
    "import numpy as np\n",
    "import pandas as pd\n",
    "import matplotlib.pyplot as plt\n",
    "import scipy as sp\n",
    "from scipy import optimize"
   ]
  },
  {
   "cell_type": "code",
   "execution_count": 16,
   "id": "6c3c7f84-9e5b-4834-bebf-c739ba61105e",
   "metadata": {},
   "outputs": [],
   "source": [
    "def f(epsilon):\n",
    "    eta = 1\n",
    "    k_bar = 1400\n",
    "    C_bar = 20000000\n",
    "    N = 46000000\n",
    "    L = 13000\n",
    "    return eta*N*(k_bar/C_bar)*np.exp(epsilon)-4*L/pow(epsilon, 3)"
   ]
  },
  {
   "cell_type": "code",
   "execution_count": 17,
   "id": "55eadfa4-d1e5-4990-84c3-aa3c90cdad0c",
   "metadata": {},
   "outputs": [
    {
     "data": {
      "text/plain": [
       "1.5219281691546662"
      ]
     },
     "execution_count": 17,
     "metadata": {},
     "output_type": "execute_result"
    }
   ],
   "source": [
    "root = optimize.bisect(f, 1e-8, 8)\n",
    "root"
   ]
  }
 ],
 "metadata": {
  "kernelspec": {
   "display_name": "Python 3 (ipykernel)",
   "language": "python",
   "name": "python3"
  },
  "language_info": {
   "codemirror_mode": {
    "name": "ipython",
    "version": 3
   },
   "file_extension": ".py",
   "mimetype": "text/x-python",
   "name": "python",
   "nbconvert_exporter": "python",
   "pygments_lexer": "ipython3",
   "version": "3.9.5"
  }
 },
 "nbformat": 4,
 "nbformat_minor": 5
}
