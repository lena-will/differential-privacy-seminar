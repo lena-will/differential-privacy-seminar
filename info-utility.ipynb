{
 "cells": [
  {
   "cell_type": "code",
   "execution_count": 1,
   "id": "437527d2-855d-453a-b18a-36db19ef39b8",
   "metadata": {},
   "outputs": [],
   "source": [
    "import numpy as np\n",
    "import pandas as pd\n",
    "import matplotlib.pyplot as plt\n",
    "import scipy as sp\n",
    "from scipy import optimize"
   ]
  },
  {
   "cell_type": "code",
   "execution_count": 2,
   "id": "89140882-8a52-4dc6-b0ea-5990f39ea84a",
   "metadata": {},
   "outputs": [],
   "source": [
    "# Defining variables \n",
    "phi = 0.5\n",
    "eta = 1 # change eta to address different weights on privacy and accuracy.\n",
    "k_bar = 1400\n",
    "C_bar = 20000000\n",
    "N = 46000000\n",
    "D = 13000"
   ]
  },
  {
   "cell_type": "code",
   "execution_count": 3,
   "id": "6c3c7f84-9e5b-4834-bebf-c739ba61105e",
   "metadata": {},
   "outputs": [],
   "source": [
    "def equilibrium(epsilon):\n",
    "    return eta*N*(k_bar/C_bar)*np.exp(epsilon)-4*D/pow(epsilon, 3)"
   ]
  },
  {
   "cell_type": "code",
   "execution_count": 4,
   "id": "55eadfa4-d1e5-4990-84c3-aa3c90cdad0c",
   "metadata": {},
   "outputs": [
    {
     "data": {
      "text/plain": [
       "1.5219281691546662"
      ]
     },
     "execution_count": 4,
     "metadata": {},
     "output_type": "execute_result"
    }
   ],
   "source": [
    "epsilon_star = optimize.bisect(equilibrium, 1e-8, 8)\n",
    "epsilon_star"
   ]
  },
  {
   "cell_type": "code",
   "execution_count": 5,
   "id": "7a31ee12-c784-4e8e-8c0d-3d40f2682a7d",
   "metadata": {},
   "outputs": [],
   "source": [
    "# Production function\n",
    "def production_function(epsilon):\n",
    "    return -2*D/np.power(epsilon, 2)"
   ]
  },
  {
   "cell_type": "code",
   "execution_count": 6,
   "id": "862d9f43-774c-4319-ad61-609f49a8d494",
   "metadata": {},
   "outputs": [],
   "source": [
    "#stepsize = 0.001\n",
    "#pf_values = np.zeros(1000, dtype = int)\n",
    "#for ii in range (0.001, 10, ):\n",
    "#    production_function(ii)\n",
    "    "
   ]
  },
  {
   "cell_type": "code",
   "execution_count": 7,
   "id": "3fef6561-21ed-4083-a0c0-57329a4c6318",
   "metadata": {},
   "outputs": [
    {
     "data": {
      "text/plain": [
       "-11224.96607601711"
      ]
     },
     "execution_count": 7,
     "metadata": {},
     "output_type": "execute_result"
    }
   ],
   "source": [
    "# Accuracy star\n",
    "I_star = -2*D/pow(epsilon_star, 2)\n",
    "I_star"
   ]
  },
  {
   "cell_type": "code",
   "execution_count": 10,
   "id": "866df001-8062-450f-a09d-61c1733dfcbb",
   "metadata": {},
   "outputs": [
    {
     "data": {
      "text/plain": [
       "-227559461859.74933"
      ]
     },
     "execution_count": 10,
     "metadata": {},
     "output_type": "execute_result"
    }
   ],
   "source": [
    "# Indifference Curve\n",
    "SWF_star = -phi*(np.exp(epsilon_star)*N*k_bar-N*k_bar)+(1-phi)*I_star*C_bar\n",
    "SWF_star"
   ]
  },
  {
   "cell_type": "code",
   "execution_count": 15,
   "id": "b834c76f-92dc-43a3-a505-3a8070838daf",
   "metadata": {},
   "outputs": [],
   "source": [
    "def indifference_curve(epsilon):\n",
    "    return (SWF_star+phi*(np.exp(epsilon)*N*k_bar-N*k_bar))/((1-phi)*C_bar)"
   ]
  },
  {
   "cell_type": "code",
   "execution_count": 46,
   "id": "3714fb89-da91-4116-85cd-6a0d417a5773",
   "metadata": {},
   "outputs": [
    {
     "data": {
      "image/png": "[encoded data removed]",
      "text/plain": [
       "<Figure size 432x288 with 1 Axes>"
      ]
     },
     "metadata": {
      "needs_background": "light"
     },
     "output_type": "display_data"
    }
   ],
   "source": [
    "# Plotting\n",
    "epsilon = np.linspace(0.001, 10, 1000)\n",
    "I = production_function(epsilon)\n",
    "I_indifference = indifference_curve(epsilon)\n",
    "fig, ax = plt.subplots()\n",
    "ax.plot(epsilon, I, \"k-\", label = \"PF\")\n",
    "ax.plot(epsilon, I_indifference, \"k--\", label = \"SWF\")\n",
    "ax.plot(epsilon_star, I_star, \"ko\", label = \"Optimum\")\n",
    "ax.set_ylim((-100000, 10000))\n",
    "ax.ticklabel_format(axis = \"y\", scilimits=(0,0))\n",
    "ax.margins(x = 0)\n",
    "ax.legend(loc = \"lower right\")\n",
    "plt.xlabel(\"Privacy loss ($\\epsilon$)\")\n",
    "plt.ylabel(\"Accuracy (I)\")\n",
    "fig.savefig(\"Solution_extension.pdf\")"
   ]
  }
 ],
 "metadata": {
  "kernelspec": {
   "display_name": "Python 3 (ipykernel)",
   "language": "python",
   "name": "python3"
  },
  "language_info": {
   "codemirror_mode": {
    "name": "ipython",
    "version": 3
   },
   "file_extension": ".py",
   "mimetype": "text/x-python",
   "name": "python",
   "nbconvert_exporter": "python",
   "pygments_lexer": "ipython3",
   "version": "3.9.5"
  }
 },
 "nbformat": 4,
 "nbformat_minor": 5
}
