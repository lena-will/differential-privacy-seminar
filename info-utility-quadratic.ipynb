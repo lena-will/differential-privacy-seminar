{
 "cells": [
  {
   "cell_type": "code",
   "execution_count": 1,
   "id": "5547c808-6207-417e-bbf1-11a09d870e04",
   "metadata": {},
   "outputs": [],
   "source": [
    "import numpy as np\n",
    "import pandas as pd\n",
    "import matplotlib.pyplot as plt\n",
    "import scipy as sp\n",
    "from scipy import optimize"
   ]
  },
  {
   "cell_type": "code",
   "execution_count": 2,
   "id": "78ceae0a-276d-4778-a229-bf882106f8cc",
   "metadata": {},
   "outputs": [],
   "source": [
    "# Defining variables \n",
    "phi = 0.5\n",
    "eta = 1 # change eta to address different weights on privacy and accuracy.\n",
    "k_bar = 1400\n",
    "C_bar = 20000000\n",
    "N = 46000000\n",
    "D = 13000"
   ]
  },
  {
   "cell_type": "code",
   "execution_count": 3,
   "id": "fe50fe6b-56ed-47fd-ad28-f2c89dffca0e",
   "metadata": {},
   "outputs": [
    {
     "data": {
      "text/plain": [
       "1.6856964378030321"
      ]
     },
     "execution_count": 3,
     "metadata": {},
     "output_type": "execute_result"
    }
   ],
   "source": [
    "# epsilon star\n",
    "epsilon_star = np.power(2*eta*N*k_bar*1/C_bar*1/(4*D), -1/4)\n",
    "epsilon_star"
   ]
  },
  {
   "cell_type": "code",
   "execution_count": 4,
   "id": "b2b8c3bc-8c44-40c0-bbbc-b746fcb5e569",
   "metadata": {},
   "outputs": [
    {
     "data": {
      "text/plain": [
       "-9149.863386958299"
      ]
     },
     "execution_count": 4,
     "metadata": {},
     "output_type": "execute_result"
    }
   ],
   "source": [
    "# Accuracy star\n",
    "I_star = -2*D/np.power(epsilon_star, 2)\n",
    "I_star"
   ]
  },
  {
   "cell_type": "code",
   "execution_count": 5,
   "id": "5b532e42-49ab-482f-8157-9251e2f2e8ac",
   "metadata": {},
   "outputs": [],
   "source": [
    "# Production function\n",
    "def production_function(epsilon):\n",
    "    return -2*D/np.power(epsilon, 2)"
   ]
  },
  {
   "cell_type": "code",
   "execution_count": 6,
   "id": "14754f32-0c4b-482e-bba2-5c8aba8ea685",
   "metadata": {},
   "outputs": [
    {
     "data": {
      "text/plain": [
       "-182997267739.166"
      ]
     },
     "execution_count": 6,
     "metadata": {},
     "output_type": "execute_result"
    }
   ],
   "source": [
    "# Indifference Curve\n",
    "SWF_star = -phi*k_bar*N*np.power(epsilon_star, 2) + (1-phi)*I_star*C_bar\n",
    "SWF_star"
   ]
  },
  {
   "cell_type": "code",
   "execution_count": 7,
   "id": "2a1e21c1-efe7-44c7-a57d-0a5c09740d6d",
   "metadata": {},
   "outputs": [],
   "source": [
    "def indifference_curve(epsilon):\n",
    "    return (SWF_star+phi*k_bar*N*np.power(epsilon, 2))/((1-phi)*C_bar)"
   ]
  },
  {
   "cell_type": "code",
   "execution_count": 8,
   "id": "2ece2859-e796-464d-b26a-46620ea6391f",
   "metadata": {},
   "outputs": [
    {
     "data": {
      "image/png": "[encoded data removed]",
      "text/plain": [
       "<Figure size 432x288 with 1 Axes>"
      ]
     },
     "metadata": {
      "needs_background": "light"
     },
     "output_type": "display_data"
    }
   ],
   "source": [
    "# Plotting\n",
    "epsilon = np.linspace(0.001, 10, 1000)\n",
    "I = production_function(epsilon)\n",
    "I_indifference = indifference_curve(epsilon)\n",
    "fig, ax = plt.subplots()\n",
    "ax.plot(epsilon, I, \"k-\", label = \"PF\")\n",
    "ax.plot(epsilon, I_indifference, \"k--\", label = \"SWF\")\n",
    "ax.plot(epsilon_star, I_star, \"ko\", label = \"Optimum\")\n",
    "ax.set_ylim((-100000, 10000))\n",
    "ax.ticklabel_format(axis = \"y\", scilimits=(0,0))\n",
    "ax.margins(x = 0)\n",
    "ax.legend(loc = \"lower right\")\n",
    "plt.xlabel(\"Privacy loss ($\\epsilon$)\")\n",
    "plt.ylabel(\"Accuracy (I)\")\n",
    "fig.savefig(\"Solution_extension_quardratic.pdf\")"
   ]
  }
 ],
 "metadata": {
  "kernelspec": {
   "display_name": "Python 3 (ipykernel)",
   "language": "python",
   "name": "python3"
  },
  "language_info": {
   "codemirror_mode": {
    "name": "ipython",
    "version": 3
   },
   "file_extension": ".py",
   "mimetype": "text/x-python",
   "name": "python",
   "nbconvert_exporter": "python",
   "pygments_lexer": "ipython3",
   "version": "3.9.5"
  }
 },
 "nbformat": 4,
 "nbformat_minor": 5
}
